{
 "cells": [
  {
   "cell_type": "code",
   "execution_count": null,
   "metadata": {
    "collapsed": true
   },
   "outputs": [],
   "source": [
    "from mlinc.smart_index.backtrader_script import TestStrategy, BenchMarkStrategy\n",
    "import backtrader as bt\n",
    "import os\n",
    "import datetime\n",
    "import sys\n",
    "\n",
    "# Create a cerebro entity\n",
    "cerebro = bt.Cerebro()\n",
    "# cerebro.addanalyzer(bt.analyzers.TimeReturn, timeframe=bt.TimeFrame.Years)\n",
    "\n",
    "# Add a strategy\n",
    "cerebro.addstrategy(TestStrategy)\n",
    "cerebro.addstrategy(BenchMarkStrategy)\n",
    "\n",
    "# Datas are in a subfolder of the samples. Need to find where the script is\n",
    "# because it could have been called from anywhere\n",
    "modpath = os.path.dirname(os.path.abspath(sys.argv[0]))\n",
    "datapath = os.path.join(modpath, 'data/^GSPC.csv')\n",
    "\n",
    "# Create a Data Feed\n",
    "data = bt.feeds.YahooFinanceCSVData(\n",
    "    dataname=datapath,\n",
    "    # Do not pass values before this date\n",
    "    fromdate=datetime.datetime(2009, 2, 24),\n",
    "    # Do not pass values before this date\n",
    "    todate=datetime.datetime(2013, 2, 24),\n",
    "    # Do not pass values after this date\n",
    "    reverse=False)\n",
    "\n",
    "# Add the Data Feed to Cerebro\n",
    "cerebro.adddata(data)\n",
    "\n",
    "# Set our desired cash start\n",
    "cerebro.broker.setcash(100000.0)\n",
    "\n",
    "# Add a FixedSize sizer according to the stake\n",
    "cerebro.addsizer(bt.sizers.FixedSize, stake=0.5)\n",
    "\n",
    "# Set the commission\n",
    "cerebro.broker.setcommission(commission=0.02)\n",
    "\n",
    "# Print out the starting conditions\n",
    "print('Starting Portfolio Value: %.2f' % cerebro.broker.getvalue())\n",
    "start = cerebro.broker.getvalue()\n",
    "\n",
    "# Run over everything\n",
    "cerebro.run()\n",
    "\n",
    "# Print out the final result\n",
    "print('Final Portfolio Value: %.2f' % cerebro.broker.getvalue())\n",
    "end = cerebro.broker.getvalue()\n",
    "ans = (end - start) / end * 100\n",
    "print('Percentage profit: %.3f' % ans)\n",
    "\n",
    "# Plot the result\n",
    "cerebro.plot()"
   ]
  }
 ],
 "metadata": {
  "kernelspec": {
   "display_name": "Python 2",
   "language": "python",
   "name": "python2"
  },
  "language_info": {
   "codemirror_mode": {
    "name": "ipython",
    "version": 2.0
   },
   "file_extension": ".py",
   "mimetype": "text/x-python",
   "name": "python",
   "nbconvert_exporter": "python",
   "pygments_lexer": "ipython2",
   "version": "2.7.6"
  }
 },
 "nbformat": 4,
 "nbformat_minor": 0
}